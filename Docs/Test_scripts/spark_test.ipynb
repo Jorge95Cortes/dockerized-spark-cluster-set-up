{
 "cells": [
  {
   "cell_type": "code",
   "execution_count": null,
   "id": "4f45d850",
   "metadata": {},
   "outputs": [],
   "source": [
    "!pip install pyspark findspark"
   ]
  },
  {
   "cell_type": "code",
   "execution_count": 10,
   "id": "c81b94db",
   "metadata": {},
   "outputs": [
    {
     "name": "stdout",
     "output_type": "stream",
     "text": [
      "Creating HDFS directory (if not exists): hdfs://namenode:9000/test1\n",
      "Uploading /home/jovyan/work/Data_files/ibm_card_tnx/txn_0000.csv to hdfs://namenode:9000/test1/\n",
      "Listing contents of hdfs://namenode:9000/test1 in HDFS:\n"
     ]
    },
    {
     "data": {
      "text/plain": [
       "32512"
      ]
     },
     "execution_count": 10,
     "metadata": {},
     "output_type": "execute_result"
    }
   ],
   "source": [
    "import os\n",
    "import glob\n",
    "\n",
    "local_file_path = \"/home/jovyan/work/Data_files/ibm_card_tnx/txn_0000.csv\"\n",
    "\n",
    "# HDFS directory where the file will be uploaded\n",
    "# Using /user/jovyan as a common practice for the default user in jupyter/pyspark-notebook\n",
    "# If core-site xml is not properly configured, add hdfs://namenode:9000/user/jovyan/ibm_card_txn.csv\n",
    "hdfs_base_directory = \"hdfs://namenode:9000/test1\" \n",
    "hdfs_target_directory = hdfs_base_directory.strip() # Ensure no leading/trailing spaces\n",
    "hdfs_file_path = f\"{hdfs_target_directory}/\"\n",
    "\n",
    "print(f\"Creating HDFS directory (if not exists): {hdfs_target_directory}\")\n",
    "# The hdfs dfs client commands work because HADOOP_CONF_DIR is set in the jupyter-notebook service,\n",
    "# pointing to the Hadoop configurations (core-site.xml, hdfs-site.xml)\n",
    "# which define fs.defaultFS as hdfs://namenode:9000\n",
    "os.system(f\"hdfs dfs -mkdir -p {hdfs_target_directory}\")\n",
    "\n",
    "print(f\"Uploading {local_file_path} to {hdfs_file_path}\")\n",
    "os.system(f\"hdfs dfs -put -f {local_file_path} {hdfs_file_path}\")\n",
    "\n",
    "# hdfs_file_path = f\"{hdfs_target_directory}/ibm_card_txn/txn_0000.csv\" # Original problematic line\n",
    "file_name = os.path.basename(local_file_path)\n",
    "hdfs_file_path = f\"{hdfs_target_directory}/{file_name}\" # Corrected line\n",
    "\n",
    "# 3. Verify the file upload by listing the HDFS directory contents\n",
    "print(f\"Listing contents of {hdfs_target_directory} in HDFS:\")\n",
    "os.system(f\"hdfs dfs -ls {hdfs_target_directory}\")"
   ]
  },
  {
   "cell_type": "code",
   "execution_count": 11,
   "id": "5086df5b-e56b-40ce-b54d-2cc0826eb688",
   "metadata": {},
   "outputs": [
    {
     "name": "stdout",
     "output_type": "stream",
     "text": [
      "PATH: /opt/conda/bin:/usr/local/sbin:/usr/local/bin:/usr/sbin:/usr/bin:/sbin:/bin:/usr/local/spark/bin\n",
      "'which hdfs' command exited with: 256\n"
     ]
    }
   ],
   "source": [
    "import os\n",
    "print(\"PATH:\", os.environ.get(\"PATH\"))\n",
    "\n",
    "# Check if 'hdfs' command is found and its return code\n",
    "ret_code_which = os.system(\"which hdfs\")\n",
    "print(f\"'which hdfs' command exited with: {ret_code_which}\")\n",
    "# A return code of 0 from 'which hdfs' means it was found."
   ]
  },
  {
   "cell_type": "code",
   "execution_count": null,
   "id": "ddb5c46c",
   "metadata": {},
   "outputs": [],
   "source": [
    "df.groupBy(\"Merchant City\").amount()"
   ]
  },
  {
   "cell_type": "code",
   "execution_count": null,
   "id": "4c936915-c3de-4e82-a341-238127bcf156",
   "metadata": {},
   "outputs": [
    {
     "name": "stdout",
     "output_type": "stream",
     "text": [
      "spark_test.ipynb\n"
     ]
    }
   ],
   "source": []
  },
  {
   "cell_type": "code",
   "execution_count": 17,
   "id": "49f70839-6980-4e4e-a144-2d6dc6363d00",
   "metadata": {},
   "outputs": [],
   "source": [
    "!cd .."
   ]
  },
  {
   "cell_type": "code",
   "execution_count": null,
   "id": "72fbf932",
   "metadata": {},
   "outputs": [],
   "source": []
  }
 ],
 "metadata": {
  "kernelspec": {
<<<<<<< HEAD
   "display_name": "Python 3 (ipykernel)",
   "language": "python",
   "name": "python3"
=======
   "display_name": ".venv",
   "language": "python",
   "name": "python3"
  },
  "language_info": {
   "name": "python",
   "version": "3.12.3"
>>>>>>> 22a2d8c (This commit includes an automatic labelling script, it also asign resources explicitly to each node on the cluster)
  }
 },
 "nbformat": 4,
 "nbformat_minor": 5
}
