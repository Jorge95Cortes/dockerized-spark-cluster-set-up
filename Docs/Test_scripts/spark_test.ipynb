{
 "cells": [
  {
   "cell_type": "code",
   "execution_count": null,
   "id": "c81b94db",
   "metadata": {},
   "outputs": [],
   "source": [
    "import os\n",
    "\n",
    "local_file_path = \"/home/jovyan/work/Data_files/ibm_card_txn.csv\"\n",
    "\n",
    "# HDFS directory where the file will be uploaded\n",
    "# Using /user/jovyan as a common practice for the default user in jupyter/pyspark-notebook\n",
    "# If core-site xml is not properly configured, add hdfs://namenode:9000/user/jovyan/ibm_card_txn.csv\n",
    "hdfs_base_directory = \"/user/jovyan\" \n",
    "hdfs_target_directory = hdfs_base_directory.strip() # Ensure no leading/trailing spaces\n",
    "hdfs_file_path = f\"{hdfs_target_directory}/\"\n",
    "\n",
    "print(f\"Creating HDFS directory (if not exists): {hdfs_target_directory}\")\n",
    "# The hdfs dfs client commands work because HADOOP_CONF_DIR is set in the jupyter-notebook service,\n",
    "# pointing to the Hadoop configurations (core-site.xml, hdfs-site.xml)\n",
    "# which define fs.defaultFS as hdfs://namenode:9000\n",
    "os.system(f\"hdfs dfs -mkdir -p {hdfs_target_directory}\")\n",
    "\n",
    "print(f\"Uploading {local_file_path} to {hdfs_file_path}\")\n",
    "os.system(f\"hdfs dfs -put -f {local_file_path} {hdfs_file_path}\")\n",
    "\n",
    "hdfs_file_path = f\"{hdfs_target_directory}/ibm_card_txn.csv\"\n",
    "\n",
    "# 3. Verify the file upload by listing the HDFS directory contents\n",
    "print(f\"Listing contents of {hdfs_target_directory} in HDFS:\")\n",
    "os.system(f\"hdfs dfs -ls {hdfs_target_directory}\")"
   ]
  },
  {
   "cell_type": "code",
   "execution_count": null,
   "id": "cdc6fcf4",
   "metadata": {},
   "outputs": [],
   "source": [
    "# Create a spark session and read the file from HDFS\n",
    "from pyspark.sql import SparkSession\n",
    "from pyspark.sql import functions as F\n",
    "\n",
    "# Create a Spark session\n",
    "spark = SparkSession.builder \\\n",
    "    .appName(\"Spark Cluster Test\") \\\n",
    "    .getOrCreate()\n",
    "\n",
    "df = spark.read.csv(hdfs_file_path, header=True, inferSchema=True)\n",
    "df.show(5)  # Display the first 5 rows of the DataFrame"
   ]
  },
  {
   "cell_type": "code",
   "execution_count": null,
   "id": "ddb5c46c",
   "metadata": {},
   "outputs": [],
   "source": [
    "df.groupBy(\"city\").amount()"
   ]
  }
 ],
 "metadata": {
  "kernelspec": {
   "display_name": "Python 3",
   "language": "python",
   "name": "python3"
  },
  "language_info": {
   "name": "python",
   "version": "3.12.2"
  }
 },
 "nbformat": 4,
 "nbformat_minor": 5
}
